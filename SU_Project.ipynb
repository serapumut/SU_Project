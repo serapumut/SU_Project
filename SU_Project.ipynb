{
 "cells": [
  {
   "cell_type": "code",
   "execution_count": 73,
   "id": "826b2a15",
   "metadata": {},
   "outputs": [],
   "source": [
    "import pandas as pd"
   ]
  },
  {
   "cell_type": "code",
   "execution_count": 74,
   "id": "7df4bc36",
   "metadata": {},
   "outputs": [],
   "source": [
    "df = pd.read_csv('../Downloads/results.csv')"
   ]
  },
  {
   "cell_type": "code",
   "execution_count": 75,
   "id": "1a99b318",
   "metadata": {},
   "outputs": [
    {
     "name": "stdout",
     "output_type": "stream",
     "text": [
      "1.7393136930376256\n"
     ]
    }
   ],
   "source": [
    "average_home = df['home_score'].mean()\n",
    "print(average_home)"
   ]
  },
  {
   "cell_type": "code",
   "execution_count": 76,
   "id": "b6e37146",
   "metadata": {},
   "outputs": [
    {
     "name": "stdout",
     "output_type": "stream",
     "text": [
      "1.1782412004854905\n"
     ]
    }
   ],
   "source": [
    "average_away = df['away_score'].mean()\n",
    "print(average_away)"
   ]
  },
  {
   "cell_type": "code",
   "execution_count": 77,
   "id": "6aacf827",
   "metadata": {},
   "outputs": [
    {
     "name": "stdout",
     "output_type": "stream",
     "text": [
      "United States\n"
     ]
    }
   ],
   "source": [
    "grouped_data = df.groupby('country')['home_score'].sum()\n",
    "highest_country = grouped_data.idxmax()\n",
    "print(highest_country)"
   ]
  },
  {
   "cell_type": "code",
   "execution_count": 78,
   "id": "d37c2ead",
   "metadata": {},
   "outputs": [
    {
     "name": "stdout",
     "output_type": "stream",
     "text": [
      "tournament\n",
      "Friendly                        17773\n",
      "FIFA World Cup qualification     8016\n",
      "UEFA Euro qualification          2815\n",
      "Name: count, dtype: int64\n"
     ]
    }
   ],
   "source": [
    "tournament_counts = df['tournament'].value_counts()\n",
    "top_3_tournaments = tournament_counts.head(3)\n",
    "print(top_3_tournaments)"
   ]
  },
  {
   "cell_type": "code",
   "execution_count": 79,
   "id": "ea406726",
   "metadata": {},
   "outputs": [],
   "source": [
    "fifa_df = df[df['tournament'] == 'FIFA World Cup']"
   ]
  },
  {
   "cell_type": "code",
   "execution_count": 80,
   "id": "0ef28f4d",
   "metadata": {},
   "outputs": [
    {
     "name": "stderr",
     "output_type": "stream",
     "text": [
      "C:\\Users\\serap\\AppData\\Local\\Temp\\ipykernel_13524\\914409816.py:1: SettingWithCopyWarning: \n",
      "A value is trying to be set on a copy of a slice from a DataFrame.\n",
      "Try using .loc[row_indexer,col_indexer] = value instead\n",
      "\n",
      "See the caveats in the documentation: https://pandas.pydata.org/pandas-docs/stable/user_guide/indexing.html#returning-a-view-versus-a-copy\n",
      "  fifa_df['total_score'] = fifa_df['home_score'] + fifa_df['away_score']\n"
     ]
    }
   ],
   "source": [
    "fifa_df['total_score'] = fifa_df['home_score'] + fifa_df['away_score']"
   ]
  },
  {
   "cell_type": "code",
   "execution_count": 81,
   "id": "a6f4c7df",
   "metadata": {},
   "outputs": [
    {
     "name": "stdout",
     "output_type": "stream",
     "text": [
      "Brazil\n"
     ]
    }
   ],
   "source": [
    "highest_scorer = fifa_df.groupby('country')['total_score'].sum()\n",
    "highest_home_score = highest_scorer.idxmax()\n",
    "print(highest_home_score)"
   ]
  },
  {
   "cell_type": "code",
   "execution_count": null,
   "id": "d6b7b604",
   "metadata": {},
   "outputs": [],
   "source": []
  }
 ],
 "metadata": {
  "kernelspec": {
   "display_name": "Python 3 (ipykernel)",
   "language": "python",
   "name": "python3"
  },
  "language_info": {
   "codemirror_mode": {
    "name": "ipython",
    "version": 3
   },
   "file_extension": ".py",
   "mimetype": "text/x-python",
   "name": "python",
   "nbconvert_exporter": "python",
   "pygments_lexer": "ipython3",
   "version": "3.11.5"
  }
 },
 "nbformat": 4,
 "nbformat_minor": 5
}
